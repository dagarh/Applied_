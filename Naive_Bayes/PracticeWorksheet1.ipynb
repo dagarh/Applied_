{
 "cells": [
  {
   "cell_type": "markdown",
   "metadata": {},
   "source": [
    "## Adjusting class_weights to make data balanced, indirectly(I mean by calculating class weights)."
   ]
  },
  {
   "cell_type": "code",
   "execution_count": 22,
   "metadata": {},
   "outputs": [],
   "source": [
    "from sklearn.utils.class_weight import compute_class_weight"
   ]
  },
  {
   "cell_type": "code",
   "execution_count": 24,
   "metadata": {},
   "outputs": [
    {
     "data": {
      "text/plain": [
       "array([0.66666667, 2.        ])"
      ]
     },
     "execution_count": 24,
     "metadata": {},
     "output_type": "execute_result"
    }
   ],
   "source": [
    "compute_class_weight(class_weight='balanced',classes=[1,0], y=[1,1,1,1,1,0,1,0])\n",
    "# this y is y_true, not y_pred"
   ]
  },
  {
   "cell_type": "code",
   "execution_count": null,
   "metadata": {},
   "outputs": [],
   "source": [
    "# The “balanced” mode uses the values of y to automatically adjust weights inversely proportional to class \n",
    "# frequencies in the input data: n_samples / (n_classes * np.bincount(y))\n",
    "\n",
    "# So with the balanced option, it tries to give weights to the points of each classes in such a way that the sum of\n",
    "# weights for each of the classes is same."
   ]
  },
  {
   "cell_type": "code",
   "execution_count": null,
   "metadata": {},
   "outputs": [],
   "source": [
    "# we could also compute these based on the percentage ratio of each class, by inverting the percentage ratio. i.e\n",
    "# 1:2:3 would be taken as 3:2:1"
   ]
  },
  {
   "cell_type": "code",
   "execution_count": 45,
   "metadata": {},
   "outputs": [],
   "source": [
    "from sklearn.utils.class_weight import compute_sample_weight"
   ]
  },
  {
   "cell_type": "code",
   "execution_count": 27,
   "metadata": {},
   "outputs": [
    {
     "data": {
      "text/plain": [
       "array([0.66666667, 0.66666667, 0.66666667, 0.66666667, 0.66666667,\n",
       "       2.        , 0.66666667, 2.        ])"
      ]
     },
     "execution_count": 27,
     "metadata": {},
     "output_type": "execute_result"
    }
   ],
   "source": [
    "compute_sample_weight(class_weight='balanced', y=[1,1,1,1,1,0,1,0], indices=None)\n",
    "# here, in order to provide sample_weights, we give y=y_true, not y_pred"
   ]
  },
  {
   "cell_type": "code",
   "execution_count": null,
   "metadata": {},
   "outputs": [],
   "source": [
    "# instead of computing class weights by your own, we can make use of these methods "
   ]
  },
  {
   "cell_type": "code",
   "execution_count": null,
   "metadata": {
    "collapsed": true
   },
   "outputs": [],
   "source": [
    "# END"
   ]
  },
  {
   "cell_type": "markdown",
   "metadata": {},
   "source": [
    "## Confusion matrix"
   ]
  },
  {
   "cell_type": "code",
   "execution_count": 29,
   "metadata": {},
   "outputs": [
    {
     "data": {
      "text/plain": [
       "array([[2, 0, 1],\n",
       "       [0, 0, 0],\n",
       "       [0, 1, 2]])"
      ]
     },
     "execution_count": 29,
     "metadata": {},
     "output_type": "execute_result"
    }
   ],
   "source": [
    "from sklearn.metrics import confusion_matrix\n",
    "y_true = [0, 0, 2, 2, 0, 2]\n",
    "y_pred = [2, 0, 2, 2, 0, 1]\n",
    "confusion_matrix(y_true, y_pred)"
   ]
  },
  {
   "cell_type": "code",
   "execution_count": 41,
   "metadata": {},
   "outputs": [
    {
     "data": {
      "text/plain": [
       "array([[2, 0, 1, 0, 0],\n",
       "       [0, 0, 0, 0, 0],\n",
       "       [0, 1, 2, 0, 0],\n",
       "       [0, 0, 0, 0, 0],\n",
       "       [0, 0, 0, 0, 0]])"
      ]
     },
     "execution_count": 41,
     "metadata": {},
     "output_type": "execute_result"
    }
   ],
   "source": [
    "from sklearn.metrics import confusion_matrix\n",
    "y_true = [0, 0, 2, 2, 0, 2]\n",
    "y_pred = [2, 0, 2, 2, 0, 1]\n",
    "confusion_matrix(y_true, y_pred,labels=[0,1,2,3,4])\n",
    "# this labels is going to give us confusion matrix of dimention len(labels)*len(labels)"
   ]
  },
  {
   "cell_type": "code",
   "execution_count": 48,
   "metadata": {},
   "outputs": [
    {
     "data": {
      "text/plain": [
       "array([[0, 2],\n",
       "       [1, 1]])"
      ]
     },
     "execution_count": 48,
     "metadata": {},
     "output_type": "execute_result"
    }
   ],
   "source": [
    "y_true = [0, 1, 0, 1]\n",
    "y_pred = [1, 1, 1, 0]\n",
    "confusion_matrix(y_true, y_pred)"
   ]
  },
  {
   "cell_type": "code",
   "execution_count": null,
   "metadata": {},
   "outputs": [],
   "source": [
    "'''\n",
    "\n",
    "Remeber that the convension of confusion matrix in case of sklearn is slightly different than what sir told.\n",
    "Both are correct, it is just reverting the actual and prection axis.\n",
    "\n",
    "The convention which we should follow in theory is: take actual values in horizontal direction and predicted values\n",
    "in vertical direction.\n",
    "\n",
    "'''"
   ]
  },
  {
   "cell_type": "code",
   "execution_count": 46,
   "metadata": {},
   "outputs": [],
   "source": [
    "y_true = [0, 1, 0, 1]\n",
    "y_pred = [1, 1, 1, 0]\n",
    "tn,fp,fn,tp = confusion_matrix(y_true, y_pred).ravel()"
   ]
  },
  {
   "cell_type": "code",
   "execution_count": 47,
   "metadata": {},
   "outputs": [
    {
     "data": {
      "text/plain": [
       "(0, 2, 1, 1)"
      ]
     },
     "execution_count": 47,
     "metadata": {},
     "output_type": "execute_result"
    }
   ],
   "source": [
    "(tn, fp, fn, tp)"
   ]
  },
  {
   "cell_type": "code",
   "execution_count": null,
   "metadata": {},
   "outputs": [],
   "source": [
    "'''\n",
    "Using confusion matrix with class weights\n",
    "'''"
   ]
  },
  {
   "cell_type": "code",
   "execution_count": 54,
   "metadata": {},
   "outputs": [
    {
     "name": "stdout",
     "output_type": "stream",
     "text": [
      "[2.         0.66666667]\n",
      "[[0.         4.        ]\n",
      " [1.33333333 2.66666667]]\n"
     ]
    }
   ],
   "source": [
    "y_true = [0, 1, 0, 1,1,1,1,1]\n",
    "y_pred = [1, 1, 1, 0,0,1,1,1]\n",
    "\n",
    "print(compute_class_weight(class_weight='balanced',classes=[0,1], y=y_true))\n",
    "# so one correct classification for 1 in y_true, is considered to be 0.66666667, not 1.\n",
    "# also one correct classification for 0 in y_true, is counted as 2, not 1.\n",
    "# so that's the difference which we get, after applying class weights to the y_true.\n",
    "\n",
    "print(confusion_matrix(y_true, y_pred,sample_weight=compute_sample_weight(class_weight='balanced' \\\n",
    "                                                                          ,y=y_true, indices=None)))"
   ]
  },
  {
   "cell_type": "markdown",
   "metadata": {},
   "source": [
    "* In order to plot the confusion matrix in graph form we can make use of this link:\n",
    "http://scikit-learn.org/stable/auto_examples/model_selection/plot_confusion_matrix.html"
   ]
  },
  {
   "cell_type": "markdown",
   "metadata": {},
   "source": [
    "## Plotting confusion matrix"
   ]
  },
  {
   "cell_type": "code",
   "execution_count": 96,
   "metadata": {},
   "outputs": [],
   "source": [
    "cm = confusion_matrix(y_true, y_pred)"
   ]
  },
  {
   "cell_type": "code",
   "execution_count": 97,
   "metadata": {},
   "outputs": [
    {
     "data": {
      "text/plain": [
       "array([[0., 2.],\n",
       "       [2., 4.]])"
      ]
     },
     "execution_count": 97,
     "metadata": {},
     "output_type": "execute_result"
    }
   ],
   "source": [
    "cm.astype('float')"
   ]
  },
  {
   "cell_type": "code",
   "execution_count": 98,
   "metadata": {},
   "outputs": [
    {
     "data": {
      "text/plain": [
       "array([2, 6])"
      ]
     },
     "execution_count": 98,
     "metadata": {},
     "output_type": "execute_result"
    }
   ],
   "source": [
    "cm.sum(axis=1)"
   ]
  },
  {
   "cell_type": "code",
   "execution_count": 99,
   "metadata": {},
   "outputs": [
    {
     "data": {
      "text/plain": [
       "array([[2],\n",
       "       [6]])"
      ]
     },
     "execution_count": 99,
     "metadata": {},
     "output_type": "execute_result"
    }
   ],
   "source": [
    "cm.sum(axis=1)[:,np.newaxis]"
   ]
  },
  {
   "cell_type": "code",
   "execution_count": 100,
   "metadata": {},
   "outputs": [
    {
     "data": {
      "text/plain": [
       "array([[0.        , 1.        ],\n",
       "       [0.33333333, 0.66666667]])"
      ]
     },
     "execution_count": 100,
     "metadata": {},
     "output_type": "execute_result"
    }
   ],
   "source": [
    "cm.astype('float') / cm.sum(axis=1)[:,np.newaxis]\n",
    "# this is called as normalization"
   ]
  },
  {
   "cell_type": "code",
   "execution_count": 63,
   "metadata": {},
   "outputs": [],
   "source": [
    "import matplotlib.pyplot as plt\n",
    "import numpy as np\n",
    "import itertools"
   ]
  },
  {
   "cell_type": "code",
   "execution_count": 64,
   "metadata": {},
   "outputs": [],
   "source": [
    "def plot_confusion_matrix(cm, classes,\n",
    "                          normalize=False,\n",
    "                          title='Confusion matrix',\n",
    "                          cmap=plt.cm.Blues):\n",
    "    \"\"\"\n",
    "    This function prints and plots the confusion matrix.\n",
    "    Normalization can be applied by setting `normalize=True`.\n",
    "    \"\"\"\n",
    "    \n",
    "    # cm.sum(axis=1)[:, np.newaxis] is equivalent to cm.sum(axis=1).reshape(len(cm.sum(axis=1)),1)\n",
    "    if normalize:\n",
    "        cm = cm.astype('float') / cm.sum(axis=1)[:, np.newaxis]\n",
    "        print(\"Normalized confusion matrix\")\n",
    "    else:\n",
    "        print('Confusion matrix, without normalization')\n",
    "\n",
    "    print(cm)\n",
    "\n",
    "    plt.imshow(cm, interpolation='nearest', cmap=cmap)\n",
    "    plt.title(title)\n",
    "    plt.colorbar()\n",
    "    tick_marks = np.arange(len(classes))\n",
    "    plt.xticks(tick_marks, classes, rotation=45)\n",
    "    plt.yticks(tick_marks, classes)\n",
    "\n",
    "    fmt = '.2f' if normalize else 'd'\n",
    "    thresh = cm.max() / 2.\n",
    "    for i, j in itertools.product(range(cm.shape[0]), range(cm.shape[1])):\n",
    "        plt.text(j, i, format(cm[i, j], fmt),\n",
    "                 horizontalalignment=\"center\",\n",
    "                 color=\"white\" if cm[i, j] > thresh else \"black\")\n",
    "\n",
    "    plt.tight_layout()\n",
    "    plt.ylabel('True label')\n",
    "    plt.xlabel('Predicted label')"
   ]
  },
  {
   "cell_type": "code",
   "execution_count": 66,
   "metadata": {},
   "outputs": [
    {
     "name": "stdout",
     "output_type": "stream",
     "text": [
      "Confusion matrix, without normalization\n",
      "[[0 2]\n",
      " [2 4]]\n",
      "Normalized confusion matrix\n",
      "[[0.         1.        ]\n",
      " [0.33333333 0.66666667]]\n"
     ]
    },
    {
     "data": {
      "image/png": "[encoded data removed]",
      "text/plain": [
       "<matplotlib.figure.Figure at 0x10fcb16a0>"
      ]
     },
     "metadata": {},
     "output_type": "display_data"
    },
    {
     "data": {
      "image/png": "[encoded data removed]",
      "text/plain": [
       "<matplotlib.figure.Figure at 0x10fceba20>"
      ]
     },
     "metadata": {},
     "output_type": "display_data"
    }
   ],
   "source": [
    "# Plot non-normalized confusion matrix\n",
    "plt.figure()\n",
    "plot_confusion_matrix(confusion_matrix(y_true, y_pred), classes=['negative','positive'],\n",
    "                      title='Confusion matrix, without normalization')\n",
    "\n",
    "# Plot normalized confusion matrix\n",
    "plt.figure()\n",
    "plot_confusion_matrix(confusion_matrix(y_true, y_pred), classes=['negative','positive'], normalize=True,\n",
    "                      title='Normalized confusion matrix')\n",
    "\n",
    "plt.show()"
   ]
  },
  {
   "cell_type": "markdown",
   "metadata": {},
   "source": [
    "## Different-2 ways of using scoring metric while cross validating"
   ]
  },
  {
   "cell_type": "code",
   "execution_count": 205,
   "metadata": {},
   "outputs": [],
   "source": [
    "X = np.array([[0,1,0,1,0,1],\n",
    "     [1,1,1,1,0,1],\n",
    "     [0,1,1,0,0,0],\n",
    "     [1,0,0,1,1,1],\n",
    "     [0,0,0,0,0,1],\n",
    "     [1,1,1,1,1,1],\n",
    "     [0,0,0,1,1,1],\n",
    "     [0,0,0,0,0,0],\n",
    "     [1,1,1,1,0,1],\n",
    "     [0,1,1,0,0,0],\n",
    "     [1,0,0,1,1,1],\n",
    "     [0,0,0,0,0,1],\n",
    "     [1,1,1,1,1,1],\n",
    "     [0,0,0,1,1,1],\n",
    "     [0,0,0,0,0,0],\n",
    "     [0,0,1,0,1,1]])\n",
    "# 8-datapoints i.e design matrix\n",
    "\n",
    "y = np.array([1,1,1,0,1,0,1,1,1,1,1,0,1,0,1,1])\n",
    "# lables"
   ]
  },
  {
   "cell_type": "code",
   "execution_count": 206,
   "metadata": {},
   "outputs": [
    {
     "name": "stdout",
     "output_type": "stream",
     "text": [
      "(16, 6) (16,)\n"
     ]
    }
   ],
   "source": [
    "print(X.shape,y.shape)"
   ]
  },
  {
   "cell_type": "code",
   "execution_count": 207,
   "metadata": {},
   "outputs": [],
   "source": [
    "from sklearn.model_selection import train_test_split"
   ]
  },
  {
   "cell_type": "code",
   "execution_count": 208,
   "metadata": {},
   "outputs": [],
   "source": [
    "X_1,X_test,y_1,y_test = train_test_split(X,y,test_size=0.3,shuffle=True,random_state=0)"
   ]
  },
  {
   "cell_type": "code",
   "execution_count": 209,
   "metadata": {},
   "outputs": [
    {
     "data": {
      "text/plain": [
       "(array([[0, 0, 0, 0, 0, 1],\n",
       "        [0, 1, 1, 0, 0, 0],\n",
       "        [0, 0, 0, 0, 0, 0],\n",
       "        [1, 0, 0, 1, 1, 1],\n",
       "        [0, 0, 0, 0, 0, 0],\n",
       "        [0, 0, 1, 0, 1, 1],\n",
       "        [0, 0, 0, 0, 0, 1],\n",
       "        [1, 0, 0, 1, 1, 1],\n",
       "        [0, 1, 0, 1, 0, 1],\n",
       "        [1, 1, 1, 1, 1, 1],\n",
       "        [1, 1, 1, 1, 1, 1]]), array([1, 1, 1, 1, 1, 1, 0, 0, 1, 0, 1]))"
      ]
     },
     "execution_count": 209,
     "metadata": {},
     "output_type": "execute_result"
    }
   ],
   "source": [
    "X_1,y_1"
   ]
  },
  {
   "cell_type": "code",
   "execution_count": 210,
   "metadata": {},
   "outputs": [
    {
     "data": {
      "text/plain": [
       "(array([[1, 1, 1, 1, 0, 1],\n",
       "        [0, 0, 0, 1, 1, 1],\n",
       "        [1, 1, 1, 1, 0, 1],\n",
       "        [0, 1, 1, 0, 0, 0],\n",
       "        [0, 0, 0, 1, 1, 1]]), array([1, 1, 1, 1, 0]))"
      ]
     },
     "execution_count": 210,
     "metadata": {},
     "output_type": "execute_result"
    }
   ],
   "source": [
    "X_test,y_test"
   ]
  },
  {
   "cell_type": "code",
   "execution_count": 211,
   "metadata": {},
   "outputs": [
    {
     "name": "stdout",
     "output_type": "stream",
     "text": [
      "(11, 6) (11,)\n",
      "(5, 6) (5,)\n"
     ]
    }
   ],
   "source": [
    "print(X_1.shape,y_1.shape)\n",
    "print(X_test.shape,y_test.shape)"
   ]
  },
  {
   "cell_type": "markdown",
   "metadata": {},
   "source": [
    "* ## Using cross_validate (not cross_val_score because cross_val_score is a special case of cross_validate)"
   ]
  },
  {
   "cell_type": "code",
   "execution_count": 212,
   "metadata": {},
   "outputs": [],
   "source": [
    "from sklearn.model_selection import cross_validate"
   ]
  },
  {
   "cell_type": "code",
   "execution_count": null,
   "metadata": {},
   "outputs": [],
   "source": [
    "'''\n",
    "\n",
    "See the documentation of cross_val_score and cross_validate. Observe the difference in scoring and return parameters.\n",
    "\n",
    "cross_val_score makes use of cross_validate internally to return the any type of performace metric score \n",
    "(but it has to be a single score number).\n",
    "\n",
    "So cross_validate is more general method than cross_val_score. I mean cross_validate can also take dict in scoring\n",
    "parameter i.e we can pass multiple scoring metric in a dictionary.\n",
    "\n",
    "'''"
   ]
  },
  {
   "cell_type": "markdown",
   "metadata": {},
   "source": [
    "See the documentation of cross_val_score and cross_validate.\n",
    "http://scikit-learn.org/stable/modules/generated/sklearn.model_selection.cross_validate.html\n",
    "http://scikit-learn.org/stable/modules/generated/sklearn.model_selection.cross_val_score.html"
   ]
  },
  {
   "cell_type": "markdown",
   "metadata": {},
   "source": [
    "Read this documentation very carefully : http://scikit-learn.org/stable/modules/model_evaluation.html#defining-your-scoring-strategy-from-metric-functions"
   ]
  },
  {
   "cell_type": "markdown",
   "metadata": {},
   "source": [
    "### a) Way_1 (in_general_method)"
   ]
  },
  {
   "cell_type": "code",
   "execution_count": 214,
   "metadata": {},
   "outputs": [],
   "source": [
    "from sklearn.naive_bayes import BernoulliNB\n",
    "import pandas as pd"
   ]
  },
  {
   "cell_type": "code",
   "execution_count": 215,
   "metadata": {},
   "outputs": [
    {
     "name": "stdout",
     "output_type": "stream",
     "text": [
      "{'fit_time': array([0.00100899, 0.00096297, 0.00054002]), 'score_time': array([0.00038409, 0.00023794, 0.00024915]), 'test_score': array([0.75      , 0.5       , 0.33333333]), 'train_score': array([0.71428571, 0.71428571, 0.75      ])}\n"
     ]
    }
   ],
   "source": [
    "for alpha_i in [2.2]: # you_can_give_lot_of_values_of_alpha\n",
    "    \n",
    "    naive_clf = BernoulliNB(alpha=1, binarize=None, class_prior=None, fit_prior=True)\n",
    "    \n",
    "    weight_vector_y_1 = compute_sample_weight(class_weight='balanced', y=y_1, indices=None)\n",
    "    \n",
    "    dict_of_scores = cross_validate(naive_clf,X_1,y_1,scoring='accuracy',cv=3,fit_params= \\\n",
    "                                                {'sample_weight': weight_vector_y_1},return_train_score=True)\n",
    "    # here in cross_validate, we have multiple options in case of scoring and cv\n",
    "    \n",
    "    print(dict_of_scores)"
   ]
  },
  {
   "cell_type": "code",
   "execution_count": 216,
   "metadata": {},
   "outputs": [
    {
     "data": {
      "text/html": [
       "<div>\n",
       "<style scoped>\n",
       "    .dataframe tbody tr th:only-of-type {\n",
       "        vertical-align: middle;\n",
       "    }\n",
       "\n",
       "    .dataframe tbody tr th {\n",
       "        vertical-align: top;\n",
       "    }\n",
       "\n",
       "    .dataframe thead th {\n",
       "        text-align: right;\n",
       "    }\n",
       "</style>\n",
       "<table border=\"1\" class=\"dataframe\">\n",
       "  <thead>\n",
       "    <tr style=\"text-align: right;\">\n",
       "      <th></th>\n",
       "      <th>fit_time</th>\n",
       "      <th>score_time</th>\n",
       "      <th>test_score</th>\n",
       "      <th>train_score</th>\n",
       "    </tr>\n",
       "  </thead>\n",
       "  <tbody>\n",
       "    <tr>\n",
       "      <th>0</th>\n",
       "      <td>0.001009</td>\n",
       "      <td>0.000384</td>\n",
       "      <td>0.750000</td>\n",
       "      <td>0.714286</td>\n",
       "    </tr>\n",
       "    <tr>\n",
       "      <th>1</th>\n",
       "      <td>0.000963</td>\n",
       "      <td>0.000238</td>\n",
       "      <td>0.500000</td>\n",
       "      <td>0.714286</td>\n",
       "    </tr>\n",
       "    <tr>\n",
       "      <th>2</th>\n",
       "      <td>0.000540</td>\n",
       "      <td>0.000249</td>\n",
       "      <td>0.333333</td>\n",
       "      <td>0.750000</td>\n",
       "    </tr>\n",
       "  </tbody>\n",
       "</table>\n",
       "</div>"
      ],
      "text/plain": [
       "   fit_time  score_time  test_score  train_score\n",
       "0  0.001009    0.000384    0.750000     0.714286\n",
       "1  0.000963    0.000238    0.500000     0.714286\n",
       "2  0.000540    0.000249    0.333333     0.750000"
      ]
     },
     "execution_count": 216,
     "metadata": {},
     "output_type": "execute_result"
    }
   ],
   "source": [
    "# I will get this type of dictionary for each fold.\n",
    "pd.DataFrame(dict_of_scores)\n",
    "# So for every value of hyperparameter, I will get k(equal to folds) values of each of the scores' mentioned as a\n",
    "# parameter of scoring in the form of dictionary."
   ]
  },
  {
   "cell_type": "markdown",
   "metadata": {},
   "source": [
    "### b) Way_2 (Using multiple string scoring parameters in a dictionary)"
   ]
  },
  {
   "cell_type": "markdown",
   "metadata": {},
   "source": [
    "we can see all the strings, which you can pass in scoring parameter, here:\n",
    "<b>sklearn.metrics.SCORER</b>"
   ]
  },
  {
   "cell_type": "code",
   "execution_count": 220,
   "metadata": {},
   "outputs": [],
   "source": [
    "from sklearn.metrics import SCORERS"
   ]
  },
  {
   "cell_type": "code",
   "execution_count": 221,
   "metadata": {},
   "outputs": [
    {
     "data": {
      "text/plain": [
       "{'accuracy': make_scorer(accuracy_score),\n",
       " 'adjusted_mutual_info_score': make_scorer(adjusted_mutual_info_score),\n",
       " 'adjusted_rand_score': make_scorer(adjusted_rand_score),\n",
       " 'average_precision': make_scorer(average_precision_score, needs_threshold=True),\n",
       " 'completeness_score': make_scorer(completeness_score),\n",
       " 'explained_variance': make_scorer(explained_variance_score),\n",
       " 'f1': make_scorer(f1_score),\n",
       " 'f1_macro': make_scorer(f1_score, pos_label=None, average=macro),\n",
       " 'f1_micro': make_scorer(f1_score, pos_label=None, average=micro),\n",
       " 'f1_samples': make_scorer(f1_score, pos_label=None, average=samples),\n",
       " 'f1_weighted': make_scorer(f1_score, pos_label=None, average=weighted),\n",
       " 'fowlkes_mallows_score': make_scorer(fowlkes_mallows_score),\n",
       " 'homogeneity_score': make_scorer(homogeneity_score),\n",
       " 'log_loss': make_scorer(log_loss, greater_is_better=False, needs_proba=True),\n",
       " 'mean_absolute_error': make_scorer(mean_absolute_error, greater_is_better=False),\n",
       " 'mean_squared_error': make_scorer(mean_squared_error, greater_is_better=False),\n",
       " 'median_absolute_error': make_scorer(median_absolute_error, greater_is_better=False),\n",
       " 'mutual_info_score': make_scorer(mutual_info_score),\n",
       " 'neg_log_loss': make_scorer(log_loss, greater_is_better=False, needs_proba=True),\n",
       " 'neg_mean_absolute_error': make_scorer(mean_absolute_error, greater_is_better=False),\n",
       " 'neg_mean_squared_error': make_scorer(mean_squared_error, greater_is_better=False),\n",
       " 'neg_mean_squared_log_error': make_scorer(mean_squared_log_error, greater_is_better=False),\n",
       " 'neg_median_absolute_error': make_scorer(median_absolute_error, greater_is_better=False),\n",
       " 'normalized_mutual_info_score': make_scorer(normalized_mutual_info_score),\n",
       " 'precision': make_scorer(precision_score),\n",
       " 'precision_macro': make_scorer(precision_score, pos_label=None, average=macro),\n",
       " 'precision_micro': make_scorer(precision_score, pos_label=None, average=micro),\n",
       " 'precision_samples': make_scorer(precision_score, pos_label=None, average=samples),\n",
       " 'precision_weighted': make_scorer(precision_score, pos_label=None, average=weighted),\n",
       " 'r2': make_scorer(r2_score),\n",
       " 'recall': make_scorer(recall_score),\n",
       " 'recall_macro': make_scorer(recall_score, pos_label=None, average=macro),\n",
       " 'recall_micro': make_scorer(recall_score, pos_label=None, average=micro),\n",
       " 'recall_samples': make_scorer(recall_score, pos_label=None, average=samples),\n",
       " 'recall_weighted': make_scorer(recall_score, pos_label=None, average=weighted),\n",
       " 'roc_auc': make_scorer(roc_auc_score, needs_threshold=True),\n",
       " 'v_measure_score': make_scorer(v_measure_score)}"
      ]
     },
     "execution_count": 221,
     "metadata": {},
     "output_type": "execute_result"
    }
   ],
   "source": [
    "SCORERS"
   ]
  },
  {
   "cell_type": "code",
   "execution_count": 223,
   "metadata": {},
   "outputs": [
    {
     "name": "stdout",
     "output_type": "stream",
     "text": [
      "{'fit_time': array([0.00100803, 0.00041699, 0.00044227]), 'score_time': array([0.00247383, 0.00126195, 0.0027709 ]), 'test_precision': array([0.75, 1.  , 0.  ]), 'train_precision': array([1.        , 0.8       , 0.83333333]), 'test_f1': array([0.85714286, 0.5       , 0.        ]), 'train_f1': array([0.75      , 0.8       , 0.83333333]), 'test_recall': array([1.        , 0.33333333, 0.        ]), 'train_recall': array([0.6       , 0.8       , 0.83333333]), 'test_accuracy': array([0.75      , 0.5       , 0.33333333]), 'train_accuracy': array([0.71428571, 0.71428571, 0.75      ])}\n"
     ]
    },
    {
     "name": "stderr",
     "output_type": "stream",
     "text": [
      "/usr/local/lib/python3.6/site-packages/sklearn/metrics/classification.py:1135: UndefinedMetricWarning: Precision is ill-defined and being set to 0.0 due to no predicted samples.\n",
      "  'precision', 'predicted', average, warn_for)\n",
      "/usr/local/lib/python3.6/site-packages/sklearn/metrics/classification.py:1135: UndefinedMetricWarning: F-score is ill-defined and being set to 0.0 due to no predicted samples.\n",
      "  'precision', 'predicted', average, warn_for)\n"
     ]
    }
   ],
   "source": [
    "for alpha_i in [2.2]: # you_can_give_lot_of_values_of_alpha\n",
    "    \n",
    "    naive_clf = BernoulliNB(alpha=1, binarize=None, class_prior=None, fit_prior=True)\n",
    "    \n",
    "    weight_vector_y_1 = compute_sample_weight(class_weight='balanced', y=y_1, indices=None)\n",
    "    \n",
    "    dict_of_scores = cross_validate(naive_clf,X_1,y_1,scoring={'accuracy','precision','recall','f1'}\n",
    "                        ,cv=3,fit_params= {'sample_weight': weight_vector_y_1},return_train_score=True)\n",
    "    # here in cross_validate, we have multiple options in case of scoring and cv\n",
    "    \n",
    "    print(dict_of_scores)"
   ]
  },
  {
   "cell_type": "code",
   "execution_count": 224,
   "metadata": {},
   "outputs": [
    {
     "data": {
      "text/html": [
       "<div>\n",
       "<style scoped>\n",
       "    .dataframe tbody tr th:only-of-type {\n",
       "        vertical-align: middle;\n",
       "    }\n",
       "\n",
       "    .dataframe tbody tr th {\n",
       "        vertical-align: top;\n",
       "    }\n",
       "\n",
       "    .dataframe thead th {\n",
       "        text-align: right;\n",
       "    }\n",
       "</style>\n",
       "<table border=\"1\" class=\"dataframe\">\n",
       "  <thead>\n",
       "    <tr style=\"text-align: right;\">\n",
       "      <th></th>\n",
       "      <th>fit_time</th>\n",
       "      <th>score_time</th>\n",
       "      <th>test_accuracy</th>\n",
       "      <th>test_f1</th>\n",
       "      <th>test_precision</th>\n",
       "      <th>test_recall</th>\n",
       "      <th>train_accuracy</th>\n",
       "      <th>train_f1</th>\n",
       "      <th>train_precision</th>\n",
       "      <th>train_recall</th>\n",
       "    </tr>\n",
       "  </thead>\n",
       "  <tbody>\n",
       "    <tr>\n",
       "      <th>0</th>\n",
       "      <td>0.001008</td>\n",
       "      <td>0.002474</td>\n",
       "      <td>0.750000</td>\n",
       "      <td>0.857143</td>\n",
       "      <td>0.75</td>\n",
       "      <td>1.000000</td>\n",
       "      <td>0.714286</td>\n",
       "      <td>0.750000</td>\n",
       "      <td>1.000000</td>\n",
       "      <td>0.600000</td>\n",
       "    </tr>\n",
       "    <tr>\n",
       "      <th>1</th>\n",
       "      <td>0.000417</td>\n",
       "      <td>0.001262</td>\n",
       "      <td>0.500000</td>\n",
       "      <td>0.500000</td>\n",
       "      <td>1.00</td>\n",
       "      <td>0.333333</td>\n",
       "      <td>0.714286</td>\n",
       "      <td>0.800000</td>\n",
       "      <td>0.800000</td>\n",
       "      <td>0.800000</td>\n",
       "    </tr>\n",
       "    <tr>\n",
       "      <th>2</th>\n",
       "      <td>0.000442</td>\n",
       "      <td>0.002771</td>\n",
       "      <td>0.333333</td>\n",
       "      <td>0.000000</td>\n",
       "      <td>0.00</td>\n",
       "      <td>0.000000</td>\n",
       "      <td>0.750000</td>\n",
       "      <td>0.833333</td>\n",
       "      <td>0.833333</td>\n",
       "      <td>0.833333</td>\n",
       "    </tr>\n",
       "  </tbody>\n",
       "</table>\n",
       "</div>"
      ],
      "text/plain": [
       "   fit_time  score_time  test_accuracy   test_f1  test_precision  test_recall  \\\n",
       "0  0.001008    0.002474       0.750000  0.857143            0.75     1.000000   \n",
       "1  0.000417    0.001262       0.500000  0.500000            1.00     0.333333   \n",
       "2  0.000442    0.002771       0.333333  0.000000            0.00     0.000000   \n",
       "\n",
       "   train_accuracy  train_f1  train_precision  train_recall  \n",
       "0        0.714286  0.750000         1.000000      0.600000  \n",
       "1        0.714286  0.800000         0.800000      0.800000  \n",
       "2        0.750000  0.833333         0.833333      0.833333  "
      ]
     },
     "execution_count": 224,
     "metadata": {},
     "output_type": "execute_result"
    }
   ],
   "source": [
    "# I will get this type of dictionary for each fold\n",
    "pd.DataFrame(dict_of_scores)\n",
    "# So for every value of hyperparameter, I will get k(equal to folds) values of each of the scores' string mentioned \n",
    "# as a parameter of scoring in the form of dictionary."
   ]
  },
  {
   "cell_type": "markdown",
   "metadata": {},
   "source": [
    "### c) Way_3 (Using multiple scorers in a dictionary & Using cross validator generator)"
   ]
  },
  {
   "cell_type": "markdown",
   "metadata": {},
   "source": [
    "Read about the make_scorer() and get_scorer() methods from this link:\n",
    "http://scikit-learn.org/stable/modules/generated/sklearn.metrics.make_scorer.html\n",
    "http://scikit-learn.org/stable/modules/generated/sklearn.metrics.get_scorer.html"
   ]
  },
  {
   "cell_type": "code",
   "execution_count": 231,
   "metadata": {},
   "outputs": [],
   "source": [
    "from sklearn.metrics import make_scorer,get_scorer\n",
    "from sklearn.metrics import accuracy_score,precision_score,recall_score,f1_score\n",
    "from sklearn.model_selection import TimeSeriesSplit"
   ]
  },
  {
   "cell_type": "code",
   "execution_count": 234,
   "metadata": {},
   "outputs": [],
   "source": [
    "import warnings\n",
    "warnings.filterwarnings('ignore')"
   ]
  },
  {
   "cell_type": "code",
   "execution_count": 232,
   "metadata": {},
   "outputs": [
    {
     "name": "stdout",
     "output_type": "stream",
     "text": [
      "make_scorer(accuracy_score) make_scorer(precision_score) make_scorer(recall_score) make_scorer(f1_score)\n"
     ]
    }
   ],
   "source": [
    "print(get_scorer('accuracy'),get_scorer('precision'),get_scorer('recall'),get_scorer('f1'))"
   ]
  },
  {
   "cell_type": "code",
   "execution_count": 244,
   "metadata": {},
   "outputs": [
    {
     "name": "stdout",
     "output_type": "stream",
     "text": [
      "{'fit_time': array([0.00146794, 0.00046015, 0.00043082]), 'score_time': array([0.00238204, 0.00132704, 0.00242925]), 'test_accuracy': array([0.5, 0.5, 0.5]), 'train_accuracy': array([1.        , 0.85714286, 0.77777778]), 'test_precision': array([0.5, 0.5, 0. ]), 'train_precision': array([1.        , 1.        , 0.85714286]), 'test_recall': array([1., 1., 0.]), 'train_recall': array([1.        , 0.83333333, 0.85714286]), 'test_f1': array([0.66666667, 0.66666667, 0.        ]), 'train_f1': array([1.        , 0.90909091, 0.85714286])}\n"
     ]
    }
   ],
   "source": [
    "for alpha_i in [2.2]: # you_can_give_lot_of_values_of_alpha\n",
    "    \n",
    "    naive_clf = BernoulliNB(alpha=1, binarize=None, class_prior=None, fit_prior=True)\n",
    "    \n",
    "    weight_vector_y_1 = compute_sample_weight(class_weight='balanced', y=y_1, indices=None)\n",
    "    \n",
    "    dict_of_scores = cross_validate(naive_clf,X_1,y_1,scoring={'accuracy':make_scorer(accuracy_score, \\\n",
    "                        greater_is_better=True),'precision':make_scorer(precision_score,greater_is_better=True), \\\n",
    "                        'recall': make_scorer(recall_score,greater_is_better=True), \\\n",
    "                        'f1': make_scorer(f1_score,greater_is_better=True)}\n",
    "                        ,cv=TimeSeriesSplit(n_splits=3).split(X_1), \\\n",
    "                         fit_params= {'sample_weight': weight_vector_y_1},return_train_score=True)\n",
    "    # here in cross_validate, we have multiple options in case of scoring and cv\n",
    "    # If you want loss then make greater_is_better = False, so it would just invert the sign of score(profit) to \n",
    "    # make it a loss\n",
    "    \n",
    "    print(dict_of_scores)"
   ]
  },
  {
   "cell_type": "code",
   "execution_count": 245,
   "metadata": {},
   "outputs": [
    {
     "data": {
      "text/html": [
       "<div>\n",
       "<style scoped>\n",
       "    .dataframe tbody tr th:only-of-type {\n",
       "        vertical-align: middle;\n",
       "    }\n",
       "\n",
       "    .dataframe tbody tr th {\n",
       "        vertical-align: top;\n",
       "    }\n",
       "\n",
       "    .dataframe thead th {\n",
       "        text-align: right;\n",
       "    }\n",
       "</style>\n",
       "<table border=\"1\" class=\"dataframe\">\n",
       "  <thead>\n",
       "    <tr style=\"text-align: right;\">\n",
       "      <th></th>\n",
       "      <th>fit_time</th>\n",
       "      <th>score_time</th>\n",
       "      <th>test_accuracy</th>\n",
       "      <th>test_f1</th>\n",
       "      <th>test_precision</th>\n",
       "      <th>test_recall</th>\n",
       "      <th>train_accuracy</th>\n",
       "      <th>train_f1</th>\n",
       "      <th>train_precision</th>\n",
       "      <th>train_recall</th>\n",
       "    </tr>\n",
       "  </thead>\n",
       "  <tbody>\n",
       "    <tr>\n",
       "      <th>0</th>\n",
       "      <td>0.001468</td>\n",
       "      <td>0.002382</td>\n",
       "      <td>0.5</td>\n",
       "      <td>0.666667</td>\n",
       "      <td>0.5</td>\n",
       "      <td>1.0</td>\n",
       "      <td>1.000000</td>\n",
       "      <td>1.000000</td>\n",
       "      <td>1.000000</td>\n",
       "      <td>1.000000</td>\n",
       "    </tr>\n",
       "    <tr>\n",
       "      <th>1</th>\n",
       "      <td>0.000460</td>\n",
       "      <td>0.001327</td>\n",
       "      <td>0.5</td>\n",
       "      <td>0.666667</td>\n",
       "      <td>0.5</td>\n",
       "      <td>1.0</td>\n",
       "      <td>0.857143</td>\n",
       "      <td>0.909091</td>\n",
       "      <td>1.000000</td>\n",
       "      <td>0.833333</td>\n",
       "    </tr>\n",
       "    <tr>\n",
       "      <th>2</th>\n",
       "      <td>0.000431</td>\n",
       "      <td>0.002429</td>\n",
       "      <td>0.5</td>\n",
       "      <td>0.000000</td>\n",
       "      <td>0.0</td>\n",
       "      <td>0.0</td>\n",
       "      <td>0.777778</td>\n",
       "      <td>0.857143</td>\n",
       "      <td>0.857143</td>\n",
       "      <td>0.857143</td>\n",
       "    </tr>\n",
       "  </tbody>\n",
       "</table>\n",
       "</div>"
      ],
      "text/plain": [
       "   fit_time  score_time  test_accuracy   test_f1  test_precision  test_recall  \\\n",
       "0  0.001468    0.002382            0.5  0.666667             0.5          1.0   \n",
       "1  0.000460    0.001327            0.5  0.666667             0.5          1.0   \n",
       "2  0.000431    0.002429            0.5  0.000000             0.0          0.0   \n",
       "\n",
       "   train_accuracy  train_f1  train_precision  train_recall  \n",
       "0        1.000000  1.000000         1.000000      1.000000  \n",
       "1        0.857143  0.909091         1.000000      0.833333  \n",
       "2        0.777778  0.857143         0.857143      0.857143  "
      ]
     },
     "execution_count": 245,
     "metadata": {},
     "output_type": "execute_result"
    }
   ],
   "source": [
    "# I will get this type of dictionary for each fold\n",
    "pd.DataFrame(dict_of_scores)\n",
    "# So for every value of hyperparameter, I will get k(equal to folds) values of each of the scores' string mentioned \n",
    "# as a parameter of scoring in the form of dictionary."
   ]
  },
  {
   "cell_type": "markdown",
   "metadata": {},
   "source": [
    "### d)  Way_4(Using our own custom loss function using make_scorer factory)"
   ]
  },
  {
   "cell_type": "markdown",
   "metadata": {},
   "source": [
    "Complete in-depth discussion of all kind of scoring, scorers and custom score & loss function can be seen here :\n",
    "http://scikit-learn.org/stable/modules/model_evaluation.html"
   ]
  },
  {
   "cell_type": "code",
   "execution_count": 248,
   "metadata": {},
   "outputs": [],
   "source": [
    "def my_custom_func(ground_truth, predictions):\n",
    "    # here you can write any kind of score function, not only those who have been implemented.\n",
    "    return accuracy_score(ground_truth,predictions,sample_weight= \\\n",
    "                          compute_sample_weight(class_weight='balanced', y=ground_truth, indices=None))\n",
    "    # since this custom function would be called by make_scorer and we already gave sample_weights in fit_param of\n",
    "    # \n",
    "\n",
    "# func will negate the return value of my_custom_func, if greater_is_better = False\n",
    "loss = make_scorer(my_custom_func, greater_is_better=False,needs_proba=False,needs_threshold=False)\n",
    "score = make_scorer(my_custom_func, greater_is_better=True,needs_proba=False,needs_threshold=False)"
   ]
  },
  {
   "cell_type": "code",
   "execution_count": null,
   "metadata": {},
   "outputs": [],
   "source": []
  },
  {
   "cell_type": "code",
   "execution_count": null,
   "metadata": {},
   "outputs": [],
   "source": []
  }
 ],
 "metadata": {
  "kernelspec": {
   "display_name": "Python 3",
   "language": "python",
   "name": "python3"
  },
  "language_info": {
   "codemirror_mode": {
    "name": "ipython",
    "version": 3
   },
   "file_extension": ".py",
   "mimetype": "text/x-python",
   "name": "python",
   "nbconvert_exporter": "python",
   "pygments_lexer": "ipython3",
   "version": "3.6.4"
  }
 },
 "nbformat": 4,
 "nbformat_minor": 2
}
