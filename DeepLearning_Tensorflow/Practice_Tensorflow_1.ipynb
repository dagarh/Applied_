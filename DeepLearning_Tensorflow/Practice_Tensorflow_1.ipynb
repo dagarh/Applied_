{
 "cells": [
  {
   "cell_type": "code",
   "execution_count": 1,
   "metadata": {},
   "outputs": [],
   "source": [
    "import numpy as np\n",
    "import tensorflow as tf"
   ]
  },
  {
   "cell_type": "code",
   "execution_count": 2,
   "metadata": {},
   "outputs": [
    {
     "name": "stdout",
     "output_type": "stream",
     "text": [
      "Extracting MNIST_data/train-images-idx3-ubyte.gz\n",
      "Extracting MNIST_data/train-labels-idx1-ubyte.gz\n",
      "Extracting MNIST_data/t10k-images-idx3-ubyte.gz\n",
      "Extracting MNIST_data/t10k-labels-idx1-ubyte.gz\n"
     ]
    }
   ],
   "source": [
    "# credits: https://www.tensorflow.org/versions/r1.1/get_started/mnist/beginners\n",
    "from tensorflow.examples.tutorials.mnist import input_data\n",
    "mnist = input_data.read_data_sets(\"MNIST_data/\", one_hot=True)"
   ]
  },
  {
   "cell_type": "code",
   "execution_count": 3,
   "metadata": {},
   "outputs": [
    {
     "data": {
      "text/plain": [
       "Datasets(train=<tensorflow.contrib.learn.python.learn.datasets.mnist.DataSet object at 0x11093fe48>, validation=<tensorflow.contrib.learn.python.learn.datasets.mnist.DataSet object at 0x11093e898>, test=<tensorflow.contrib.learn.python.learn.datasets.mnist.DataSet object at 0x11093e7b8>)"
      ]
     },
     "execution_count": 3,
     "metadata": {},
     "output_type": "execute_result"
    }
   ],
   "source": [
    "mnist"
   ]
  },
  {
   "cell_type": "code",
   "execution_count": 4,
   "metadata": {},
   "outputs": [
    {
     "data": {
      "text/plain": [
       "array([[0., 0., 0., ..., 0., 0., 0.],\n",
       "       [0., 0., 0., ..., 0., 0., 0.],\n",
       "       [0., 0., 0., ..., 0., 0., 0.],\n",
       "       ...,\n",
       "       [0., 0., 0., ..., 0., 0., 0.],\n",
       "       [0., 0., 0., ..., 0., 0., 0.],\n",
       "       [0., 0., 0., ..., 0., 0., 0.]], dtype=float32)"
      ]
     },
     "execution_count": 4,
     "metadata": {},
     "output_type": "execute_result"
    }
   ],
   "source": [
    "mnist.train.images"
   ]
  },
  {
   "cell_type": "code",
   "execution_count": 5,
   "metadata": {},
   "outputs": [
    {
     "data": {
      "text/plain": [
       "array([[0., 0., 0., ..., 1., 0., 0.],\n",
       "       [0., 0., 0., ..., 0., 0., 0.],\n",
       "       [0., 0., 0., ..., 0., 0., 0.],\n",
       "       ...,\n",
       "       [0., 0., 0., ..., 0., 0., 0.],\n",
       "       [0., 0., 0., ..., 0., 0., 0.],\n",
       "       [0., 0., 0., ..., 0., 1., 0.]])"
      ]
     },
     "execution_count": 5,
     "metadata": {},
     "output_type": "execute_result"
    }
   ],
   "source": [
    "mnist.train.labels"
   ]
  },
  {
   "cell_type": "code",
   "execution_count": 6,
   "metadata": {},
   "outputs": [
    {
     "name": "stdout",
     "output_type": "stream",
     "text": [
      "(55000, 784) (55000, 10)\n"
     ]
    }
   ],
   "source": [
    "# xi's and yi's --> training dataset\n",
    "# yi is a 10-dimensional vector because of one_hot=True i.e labels are one-hot encoded values now. \n",
    "print(mnist.train.images.shape,mnist.train.labels.shape)"
   ]
  },
  {
   "cell_type": "code",
   "execution_count": 7,
   "metadata": {},
   "outputs": [
    {
     "name": "stdout",
     "output_type": "stream",
     "text": [
      "(5000, 784) (5000, 10)\n"
     ]
    }
   ],
   "source": [
    "# validation dataset (same arguments as above)\n",
    "print(mnist.validation.images.shape,mnist.validation.labels.shape)"
   ]
  },
  {
   "cell_type": "code",
   "execution_count": 8,
   "metadata": {},
   "outputs": [
    {
     "name": "stdout",
     "output_type": "stream",
     "text": [
      "(10000, 784) (10000, 10)\n"
     ]
    }
   ],
   "source": [
    "# test dataset (same arguments as above)\n",
    "print(mnist.test.images.shape,mnist.test.labels.shape)"
   ]
  },
  {
   "cell_type": "code",
   "execution_count": 9,
   "metadata": {},
   "outputs": [
    {
     "name": "stdout",
     "output_type": "stream",
     "text": [
      "[name: \"/device:CPU:0\"\n",
      "device_type: \"CPU\"\n",
      "memory_limit: 268435456\n",
      "locality {\n",
      "}\n",
      "incarnation: 10018593012655732611\n",
      "]\n"
     ]
    }
   ],
   "source": [
    "# Get a list of devices like GPUs and CPUs available to TF\n",
    "\n",
    "from tensorflow.python.client import device_lib\n",
    "print(device_lib.list_local_devices())"
   ]
  },
  {
   "cell_type": "code",
   "execution_count": 10,
   "metadata": {},
   "outputs": [],
   "source": [
    "# for training \n",
    "x_is = tf.placeholder(tf.float32, [None, 784])\n",
    "# We need this for the input layer of NN"
   ]
  },
  {
   "cell_type": "code",
   "execution_count": 11,
   "metadata": {},
   "outputs": [
    {
     "name": "stdout",
     "output_type": "stream",
     "text": [
      "Tensor(\"Placeholder:0\", shape=(?, 784), dtype=float32)\n"
     ]
    }
   ],
   "source": [
    "print(x_is)   # mini_batch structure(placeholder) for datapoints, in each of the iterations while training NN"
   ]
  },
  {
   "cell_type": "code",
   "execution_count": 12,
   "metadata": {},
   "outputs": [
    {
     "name": "stdout",
     "output_type": "stream",
     "text": [
      "(?, 784)\n"
     ]
    }
   ],
   "source": [
    "print(x_is.shape)"
   ]
  },
  {
   "cell_type": "code",
   "execution_count": 13,
   "metadata": {},
   "outputs": [],
   "source": [
    "# for training (y_trues)\n",
    "y_true_is = tf.placeholder(tf.float32, [None,10]) \n",
    "# We need this, to compare it with the output of last layer i.e softmax layer.\n",
    "# For multiclass-classification task, we would use, mostly softmax layer as our last layer while contructing NN"
   ]
  },
  {
   "cell_type": "code",
   "execution_count": 14,
   "metadata": {},
   "outputs": [
    {
     "name": "stdout",
     "output_type": "stream",
     "text": [
      "Tensor(\"Placeholder_1:0\", shape=(?, 10), dtype=float32)\n"
     ]
    }
   ],
   "source": [
    "print(y_true_is)   # mini_batch structure for labels, in each of the iterations while training NN."
   ]
  },
  {
   "cell_type": "code",
   "execution_count": 15,
   "metadata": {},
   "outputs": [
    {
     "name": "stdout",
     "output_type": "stream",
     "text": [
      "(?, 10)\n"
     ]
    }
   ],
   "source": [
    "print(y_true_is.shape)"
   ]
  },
  {
   "cell_type": "code",
   "execution_count": 16,
   "metadata": {},
   "outputs": [],
   "source": [
    "# these are the variables/parameters of a model(NN).\n",
    "W = tf.Variable(tf.zeros([784, 10]))\n",
    "b = tf.Variable(tf.zeros([10]))"
   ]
  },
  {
   "cell_type": "code",
   "execution_count": 17,
   "metadata": {},
   "outputs": [
    {
     "name": "stdout",
     "output_type": "stream",
     "text": [
      "<tf.Variable 'Variable:0' shape=(784, 10) dtype=float32_ref>\n",
      "<tf.Variable 'Variable_1:0' shape=(10,) dtype=float32_ref>\n"
     ]
    }
   ],
   "source": [
    "print(W)\n",
    "print(b)"
   ]
  },
  {
   "cell_type": "code",
   "execution_count": 18,
   "metadata": {},
   "outputs": [],
   "source": [
    "# y_hats\n",
    "y_predicted_is = tf.nn.softmax(tf.matmul(x_is,W) + b)\n",
    "# initially this would be in terms of vaiable W only, and then W's would be updated based on backprop.\n",
    "# we would have our final optimal W's at the end of all iterations with mini-batch sizes."
   ]
  },
  {
   "cell_type": "code",
   "execution_count": 19,
   "metadata": {},
   "outputs": [
    {
     "name": "stdout",
     "output_type": "stream",
     "text": [
      "Tensor(\"Softmax:0\", shape=(?, 10), dtype=float32)\n"
     ]
    }
   ],
   "source": [
    "print(y_predicted_is) # predicted y_is for the mini-batch structure"
   ]
  },
  {
   "cell_type": "code",
   "execution_count": 20,
   "metadata": {},
   "outputs": [],
   "source": [
    "# defining a loss function"
   ]
  },
  {
   "cell_type": "code",
   "execution_count": 21,
   "metadata": {},
   "outputs": [],
   "source": [
    "cross_entropy = tf.reduce_mean(-tf.reduce_sum(y_true_is * tf.log(y_predicted_is), reduction_indices=[1]))\n",
    "# it is negate of average of log of probability of correct class label."
   ]
  },
  {
   "cell_type": "code",
   "execution_count": 22,
   "metadata": {},
   "outputs": [],
   "source": [
    "# it is an optimizer i.e batch SGD with a constant learning rate\n",
    "train_step = tf.train.GradientDescentOptimizer(0.05).minimize(cross_entropy)"
   ]
  },
  {
   "cell_type": "code",
   "execution_count": 23,
   "metadata": {},
   "outputs": [],
   "source": [
    "sess = tf.InteractiveSession()"
   ]
  },
  {
   "cell_type": "code",
   "execution_count": 24,
   "metadata": {},
   "outputs": [],
   "source": [
    "# at this point, when calling .run(), it would initialize Variables defined in previous stages i.e W,b,..etc if any\n",
    "tf.global_variables_initializer().run()"
   ]
  },
  {
   "cell_type": "code",
   "execution_count": 25,
   "metadata": {},
   "outputs": [
    {
     "name": "stdout",
     "output_type": "stream",
     "text": [
      "(100, 784) (100, 10)\n"
     ]
    }
   ],
   "source": [
    "batch_xs,batch_ys = mnist.train.next_batch(100)\n",
    "print(batch_xs.shape,batch_ys.shape)"
   ]
  },
  {
   "cell_type": "code",
   "execution_count": 26,
   "metadata": {},
   "outputs": [],
   "source": [
    "# We run train_step feeding in the batches data to replace the placeholders\n",
    "for _ in range(1000):\n",
    "    batch_xs, batch_ys = mnist.train.next_batch(100)\n",
    "    sess.run(train_step, feed_dict={x_is: batch_xs, y_true_is: batch_ys})\n",
    "# above is the training of NN i.e it would update weights to the optimal value"
   ]
  },
  {
   "cell_type": "code",
   "execution_count": 27,
   "metadata": {},
   "outputs": [],
   "source": [
    "# Now, since training is finished, we have optimal weights, now we can proceed with test dataset"
   ]
  },
  {
   "cell_type": "code",
   "execution_count": 28,
   "metadata": {},
   "outputs": [],
   "source": [
    "correct_prediction = tf.equal(tf.argmax(y_predicted_is,1), tf.argmax(y_true_is,1))"
   ]
  },
  {
   "cell_type": "code",
   "execution_count": 29,
   "metadata": {},
   "outputs": [
    {
     "name": "stdout",
     "output_type": "stream",
     "text": [
      "Tensor(\"Equal:0\", shape=(?,), dtype=bool)\n"
     ]
    }
   ],
   "source": [
    "print(correct_prediction)"
   ]
  },
  {
   "cell_type": "code",
   "execution_count": 30,
   "metadata": {},
   "outputs": [],
   "source": [
    "accuracy = tf.reduce_mean(tf.cast(correct_prediction, tf.float32))"
   ]
  },
  {
   "cell_type": "code",
   "execution_count": 31,
   "metadata": {},
   "outputs": [
    {
     "name": "stdout",
     "output_type": "stream",
     "text": [
      "Tensor(\"Mean_1:0\", shape=(), dtype=float32)\n"
     ]
    }
   ],
   "source": [
    "print(accuracy)"
   ]
  },
  {
   "cell_type": "code",
   "execution_count": 32,
   "metadata": {},
   "outputs": [
    {
     "name": "stdout",
     "output_type": "stream",
     "text": [
      "0.8994\n"
     ]
    }
   ],
   "source": [
    "print(sess.run(accuracy, feed_dict={x_is: mnist.test.images, y_true_is: mnist.test.labels}))\n",
    "# Always remember that we put that thing as a first parameter in run(), which has all the other variables and now \n",
    "# everything would happen after placing values in placeholders."
   ]
  },
  {
   "cell_type": "code",
   "execution_count": 33,
   "metadata": {},
   "outputs": [],
   "source": [
    "# Now Putting Everything Together"
   ]
  },
  {
   "cell_type": "code",
   "execution_count": 34,
   "metadata": {},
   "outputs": [],
   "source": [
    "%matplotlib notebook\n",
    "import matplotlib.pyplot as plt\n",
    "\n",
    "def plt_dynamic(epoch_list, avg_train_loss_list, avg_test_loss_list, ax):\n",
    "    ax.plot(epoch_list, avg_train_loss_list, 'b', label=\"Train Loss\")\n",
    "    ax.plot(epoch_list, avg_test_loss_list, 'r', label=\"Test Loss\")\n",
    "    if len(epoch_list)==1:\n",
    "        plt.legend()\n",
    "    fig.canvas.draw()"
   ]
  },
  {
   "cell_type": "code",
   "execution_count": 35,
   "metadata": {},
   "outputs": [
    {
     "name": "stdout",
     "output_type": "stream",
     "text": [
      "WARNING:tensorflow:From <ipython-input-35-8b81f847bb0f>:4: softmax_cross_entropy_with_logits (from tensorflow.python.ops.nn_ops) is deprecated and will be removed in a future version.\n",
      "Instructions for updating:\n",
      "\n",
      "Future major versions of TensorFlow will allow gradients to flow\n",
      "into the labels input on backprop by default.\n",
      "\n",
      "See tf.nn.softmax_cross_entropy_with_logits_v2.\n",
      "\n"
     ]
    },
    {
     "data": {
      "application/javascript": [
       "/* Put everything inside the global mpl namespace */\n",
       "window.mpl = {};\n",
       "\n",
       "\n",
       "mpl.get_websocket_type = function() {\n",
       "    if (typeof(WebSocket) !== 'undefined') {\n",
       "        return WebSocket;\n",
       "    } else if (typeof(MozWebSocket) !== 'undefined') {\n",
       "        return MozWebSocket;\n",
       "    } else {\n",
       "        alert('Your browser does not have WebSocket support.' +\n",
       "              'Please try Chrome, Safari or Firefox ≥ 6. ' +\n",
       "              'Firefox 4 and 5 are also supported but you ' +\n",
       "              'have to enable WebSockets in about:config.');\n",
       "    };\n",
       "}\n",
       "\n",
       "mpl.figure = function(figure_id, websocket, ondownload, parent_element) {\n",
       "    this.id = figure_id;\n",
       "\n",
       "    this.ws = websocket;\n",
       "\n",
       "    this.supports_binary = (this.ws.binaryType != undefined);\n",
       "\n",
       "    if (!this.supports_binary) {\n",
       "        var warnings = document.getElementById(\"mpl-warnings\");\n",
       "        if (warnings) {\n",
       "            warnings.style.display = 'block';\n",
       "            warnings.textContent = (\n",
       "                \"This browser does not support binary websocket messages. \" +\n",
       "                    \"Performance may be slow.\");\n",
       "        }\n",
       "    }\n",
       "\n",
       "    this.imageObj = new Image();\n",
       "\n",
       "    this.context = undefined;\n",
       "    this.message = undefined;\n",
       "    this.canvas = undefined;\n",
       "    this.rubberband_canvas = undefined;\n",
       "    this.rubberband_context = undefined;\n",
       "    this.format_dropdown = undefined;\n",
       "\n",
       "    this.image_mode = 'full';\n",
       "\n",
       "    this.root = $('<div/>');\n",
       "    this._root_extra_style(this.root)\n",
       "    this.root.attr('style', 'display: inline-block');\n",
       "\n",
       "    $(parent_element).append(this.root);\n",
       "\n",
       "    this._init_header(this);\n",
       "    this._init_canvas(this);\n",
       "    this._init_toolbar(this);\n",
       "\n",
       "    var fig = this;\n",
       "\n",
       "    this.waiting = false;\n",
       "\n",
       "    this.ws.onopen =  function () {\n",
       "            fig.send_message(\"supports_binary\", {value: fig.supports_binary});\n",
       "            fig.send_message(\"send_image_mode\", {});\n",
       "            if (mpl.ratio != 1) {\n",
       "                fig.send_message(\"set_dpi_ratio\", {'dpi_ratio': mpl.ratio});\n",
       "            }\n",
       "            fig.send_message(\"refresh\", {});\n",
       "        }\n",
       "\n",
       "    this.imageObj.onload = function() {\n",
       "            if (fig.image_mode == 'full') {\n",
       "                // Full images could contain transparency (where diff images\n",
       "                // almost always do), so we need to clear the canvas so that\n",
       "                // there is no ghosting.\n",
       "                fig.context.clearRect(0, 0, fig.canvas.width, fig.canvas.height);\n",
       "            }\n",
       "            fig.context.drawImage(fig.imageObj, 0, 0);\n",
       "        };\n",
       "\n",
       "    this.imageObj.onunload = function() {\n",
       "        fig.ws.close();\n",
       "    }\n",
       "\n",
       "    this.ws.onmessage = this._make_on_message_function(this);\n",
       "\n",
       "    this.ondownload = ondownload;\n",
       "}\n",
       "\n",
       "mpl.figure.prototype._init_header = function() {\n",
       "    var titlebar = $(\n",
       "        '<div class=\"ui-dialog-titlebar ui-widget-header ui-corner-all ' +\n",
       "        'ui-helper-clearfix\"/>');\n",
       "    var titletext = $(\n",
       "        '<div class=\"ui-dialog-title\" style=\"width: 100%; ' +\n",
       "        'text-align: center; padding: 3px;\"/>');\n",
       "    titlebar.append(titletext)\n",
       "    this.root.append(titlebar);\n",
       "    this.header = titletext[0];\n",
       "}\n",
       "\n",
       "\n",
       "\n",
       "mpl.figure.prototype._canvas_extra_style = function(canvas_div) {\n",
       "\n",
       "}\n",
       "\n",
       "\n",
       "mpl.figure.prototype._root_extra_style = function(canvas_div) {\n",
       "\n",
       "}\n",
       "\n",
       "mpl.figure.prototype._init_canvas = function() {\n",
       "    var fig = this;\n",
       "\n",
       "    var canvas_div = $('<div/>');\n",
       "\n",
       "    canvas_div.attr('style', 'position: relative; clear: both; outline: 0');\n",
       "\n",
       "    function canvas_keyboard_event(event) {\n",
       "        return fig.key_event(event, event['data']);\n",
       "    }\n",
       "\n",
       "    canvas_div.keydown('key_press', canvas_keyboard_event);\n",
       "    canvas_div.keyup('key_release', canvas_keyboard_event);\n",
       "    this.canvas_div = canvas_div\n",
       "    this._canvas_extra_style(canvas_div)\n",
       "    this.root.append(canvas_div);\n",
       "\n",
       "    var canvas = $('<canvas/>');\n",
       "    canvas.addClass('mpl-canvas');\n",
       "    canvas.attr('style', \"left: 0; top: 0; z-index: 0; outline: 0\")\n",
       "\n",
       "    this.canvas = canvas[0];\n",
       "    this.context = canvas[0].getContext(\"2d\");\n",
       "\n",
       "    var backingStore = this.context.backingStorePixelRatio ||\n",
       "\tthis.context.webkitBackingStorePixelRatio ||\n",
       "\tthis.context.mozBackingStorePixelRatio ||\n",
       "\tthis.context.msBackingStorePixelRatio ||\n",
       "\tthis.context.oBackingStorePixelRatio ||\n",
       "\tthis.context.backingStorePixelRatio || 1;\n",
       "\n",
       "    mpl.ratio = (window.devicePixelRatio || 1) / backingStore;\n",
       "\n",
       "    var rubberband = $('<canvas/>');\n",
       "    rubberband.attr('style', \"position: absolute; left: 0; top: 0; z-index: 1;\")\n",
       "\n",
       "    var pass_mouse_events = true;\n",
       "\n",
       "    canvas_div.resizable({\n",
       "        start: function(event, ui) {\n",
       "            pass_mouse_events = false;\n",
       "        },\n",
       "        resize: function(event, ui) {\n",
       "            fig.request_resize(ui.size.width, ui.size.height);\n",
       "        },\n",
       "        stop: function(event, ui) {\n",
       "            pass_mouse_events = true;\n",
       "            fig.request_resize(ui.size.width, ui.size.height);\n",
       "        },\n",
       "    });\n",
       "\n",
       "    function mouse_event_fn(event) {\n",
       "        if (pass_mouse_events)\n",
       "            return fig.mouse_event(event, event['data']);\n",
       "    }\n",
       "\n",
       "    rubberband.mousedown('button_press', mouse_event_fn);\n",
       "    rubberband.mouseup('button_release', mouse_event_fn);\n",
       "    // Throttle sequential mouse events to 1 every 20ms.\n",
       "    rubberband.mousemove('motion_notify', mouse_event_fn);\n",
       "\n",
       "    rubberband.mouseenter('figure_enter', mouse_event_fn);\n",
       "    rubberband.mouseleave('figure_leave', mouse_event_fn);\n",
       "\n",
       "    canvas_div.on(\"wheel\", function (event) {\n",
       "        event = event.originalEvent;\n",
       "        event['data'] = 'scroll'\n",
       "        if (event.deltaY < 0) {\n",
       "            event.step = 1;\n",
       "        } else {\n",
       "            event.step = -1;\n",
       "        }\n",
       "        mouse_event_fn(event);\n",
       "    });\n",
       "\n",
       "    canvas_div.append(canvas);\n",
       "    canvas_div.append(rubberband);\n",
       "\n",
       "    this.rubberband = rubberband;\n",
       "    this.rubberband_canvas = rubberband[0];\n",
       "    this.rubberband_context = rubberband[0].getContext(\"2d\");\n",
       "    this.rubberband_context.strokeStyle = \"#000000\";\n",
       "\n",
       "    this._resize_canvas = function(width, height) {\n",
       "        // Keep the size of the canvas, canvas container, and rubber band\n",
       "        // canvas in synch.\n",
       "        canvas_div.css('width', width)\n",
       "        canvas_div.css('height', height)\n",
       "\n",
       "        canvas.attr('width', width * mpl.ratio);\n",
       "        canvas.attr('height', height * mpl.ratio);\n",
       "        canvas.attr('style', 'width: ' + width + 'px; height: ' + height + 'px;');\n",
       "\n",
       "        rubberband.attr('width', width);\n",
       "        rubberband.attr('height', height);\n",
       "    }\n",
       "\n",
       "    // Set the figure to an initial 600x600px, this will subsequently be updated\n",
       "    // upon first draw.\n",
       "    this._resize_canvas(600, 600);\n",
       "\n",
       "    // Disable right mouse context menu.\n",
       "    $(this.rubberband_canvas).bind(\"contextmenu\",function(e){\n",
       "        return false;\n",
       "    });\n",
       "\n",
       "    function set_focus () {\n",
       "        canvas.focus();\n",
       "        canvas_div.focus();\n",
       "    }\n",
       "\n",
       "    window.setTimeout(set_focus, 100);\n",
       "}\n",
       "\n",
       "mpl.figure.prototype._init_toolbar = function() {\n",
       "    var fig = this;\n",
       "\n",
       "    var nav_element = $('<div/>')\n",
       "    nav_element.attr('style', 'width: 100%');\n",
       "    this.root.append(nav_element);\n",
       "\n",
       "    // Define a callback function for later on.\n",
       "    function toolbar_event(event) {\n",
       "        return fig.toolbar_button_onclick(event['data']);\n",
       "    }\n",
       "    function toolbar_mouse_event(event) {\n",
       "        return fig.toolbar_button_onmouseover(event['data']);\n",
       "    }\n",
       "\n",
       "    for(var toolbar_ind in mpl.toolbar_items) {\n",
       "        var name = mpl.toolbar_items[toolbar_ind][0];\n",
       "        var tooltip = mpl.toolbar_items[toolbar_ind][1];\n",
       "        var image = mpl.toolbar_items[toolbar_ind][2];\n",
       "        var method_name = mpl.toolbar_items[toolbar_ind][3];\n",
       "\n",
       "        if (!name) {\n",
       "            // put a spacer in here.\n",
       "            continue;\n",
       "        }\n",
       "        var button = $('<button/>');\n",
       "        button.addClass('ui-button ui-widget ui-state-default ui-corner-all ' +\n",
       "                        'ui-button-icon-only');\n",
       "        button.attr('role', 'button');\n",
       "        button.attr('aria-disabled', 'false');\n",
       "        button.click(method_name, toolbar_event);\n",
       "        button.mouseover(tooltip, toolbar_mouse_event);\n",
       "\n",
       "        var icon_img = $('<span/>');\n",
       "        icon_img.addClass('ui-button-icon-primary ui-icon');\n",
       "        icon_img.addClass(image);\n",
       "        icon_img.addClass('ui-corner-all');\n",
       "\n",
       "        var tooltip_span = $('<span/>');\n",
       "        tooltip_span.addClass('ui-button-text');\n",
       "        tooltip_span.html(tooltip);\n",
       "\n",
       "        button.append(icon_img);\n",
       "        button.append(tooltip_span);\n",
       "\n",
       "        nav_element.append(button);\n",
       "    }\n",
       "\n",
       "    var fmt_picker_span = $('<span/>');\n",
       "\n",
       "    var fmt_picker = $('<select/>');\n",
       "    fmt_picker.addClass('mpl-toolbar-option ui-widget ui-widget-content');\n",
       "    fmt_picker_span.append(fmt_picker);\n",
       "    nav_element.append(fmt_picker_span);\n",
       "    this.format_dropdown = fmt_picker[0];\n",
       "\n",
       "    for (var ind in mpl.extensions) {\n",
       "        var fmt = mpl.extensions[ind];\n",
       "        var option = $(\n",
       "            '<option/>', {selected: fmt === mpl.default_extension}).html(fmt);\n",
       "        fmt_picker.append(option)\n",
       "    }\n",
       "\n",
       "    // Add hover states to the ui-buttons\n",
       "    $( \".ui-button\" ).hover(\n",
       "        function() { $(this).addClass(\"ui-state-hover\");},\n",
       "        function() { $(this).removeClass(\"ui-state-hover\");}\n",
       "    );\n",
       "\n",
       "    var status_bar = $('<span class=\"mpl-message\"/>');\n",
       "    nav_element.append(status_bar);\n",
       "    this.message = status_bar[0];\n",
       "}\n",
       "\n",
       "mpl.figure.prototype.request_resize = function(x_pixels, y_pixels) {\n",
       "    // Request matplotlib to resize the figure. Matplotlib will then trigger a resize in the client,\n",
       "    // which will in turn request a refresh of the image.\n",
       "    this.send_message('resize', {'width': x_pixels, 'height': y_pixels});\n",
       "}\n",
       "\n",
       "mpl.figure.prototype.send_message = function(type, properties) {\n",
       "    properties['type'] = type;\n",
       "    properties['figure_id'] = this.id;\n",
       "    this.ws.send(JSON.stringify(properties));\n",
       "}\n",
       "\n",
       "mpl.figure.prototype.send_draw_message = function() {\n",
       "    if (!this.waiting) {\n",
       "        this.waiting = true;\n",
       "        this.ws.send(JSON.stringify({type: \"draw\", figure_id: this.id}));\n",
       "    }\n",
       "}\n",
       "\n",
       "\n",
       "mpl.figure.prototype.handle_save = function(fig, msg) {\n",
       "    var format_dropdown = fig.format_dropdown;\n",
       "    var format = format_dropdown.options[format_dropdown.selectedIndex].value;\n",
       "    fig.ondownload(fig, format);\n",
       "}\n",
       "\n",
       "\n",
       "mpl.figure.prototype.handle_resize = function(fig, msg) {\n",
       "    var size = msg['size'];\n",
       "    if (size[0] != fig.canvas.width || size[1] != fig.canvas.height) {\n",
       "        fig._resize_canvas(size[0], size[1]);\n",
       "        fig.send_message(\"refresh\", {});\n",
       "    };\n",
       "}\n",
       "\n",
       "mpl.figure.prototype.handle_rubberband = function(fig, msg) {\n",
       "    var x0 = msg['x0'] / mpl.ratio;\n",
       "    var y0 = (fig.canvas.height - msg['y0']) / mpl.ratio;\n",
       "    var x1 = msg['x1'] / mpl.ratio;\n",
       "    var y1 = (fig.canvas.height - msg['y1']) / mpl.ratio;\n",
       "    x0 = Math.floor(x0) + 0.5;\n",
       "    y0 = Math.floor(y0) + 0.5;\n",
       "    x1 = Math.floor(x1) + 0.5;\n",
       "    y1 = Math.floor(y1) + 0.5;\n",
       "    var min_x = Math.min(x0, x1);\n",
       "    var min_y = Math.min(y0, y1);\n",
       "    var width = Math.abs(x1 - x0);\n",
       "    var height = Math.abs(y1 - y0);\n",
       "\n",
       "    fig.rubberband_context.clearRect(\n",
       "        0, 0, fig.canvas.width, fig.canvas.height);\n",
       "\n",
       "    fig.rubberband_context.strokeRect(min_x, min_y, width, height);\n",
       "}\n",
       "\n",
       "mpl.figure.prototype.handle_figure_label = function(fig, msg) {\n",
       "    // Updates the figure title.\n",
       "    fig.header.textContent = msg['label'];\n",
       "}\n",
       "\n",
       "mpl.figure.prototype.handle_cursor = function(fig, msg) {\n",
       "    var cursor = msg['cursor'];\n",
       "    switch(cursor)\n",
       "    {\n",
       "    case 0:\n",
       "        cursor = 'pointer';\n",
       "        break;\n",
       "    case 1:\n",
       "        cursor = 'default';\n",
       "        break;\n",
       "    case 2:\n",
       "        cursor = 'crosshair';\n",
       "        break;\n",
       "    case 3:\n",
       "        cursor = 'move';\n",
       "        break;\n",
       "    }\n",
       "    fig.rubberband_canvas.style.cursor = cursor;\n",
       "}\n",
       "\n",
       "mpl.figure.prototype.handle_message = function(fig, msg) {\n",
       "    fig.message.textContent = msg['message'];\n",
       "}\n",
       "\n",
       "mpl.figure.prototype.handle_draw = function(fig, msg) {\n",
       "    // Request the server to send over a new figure.\n",
       "    fig.send_draw_message();\n",
       "}\n",
       "\n",
       "mpl.figure.prototype.handle_image_mode = function(fig, msg) {\n",
       "    fig.image_mode = msg['mode'];\n",
       "}\n",
       "\n",
       "mpl.figure.prototype.updated_canvas_event = function() {\n",
       "    // Called whenever the canvas gets updated.\n",
       "    this.send_message(\"ack\", {});\n",
       "}\n",
       "\n",
       "// A function to construct a web socket function for onmessage handling.\n",
       "// Called in the figure constructor.\n",
       "mpl.figure.prototype._make_on_message_function = function(fig) {\n",
       "    return function socket_on_message(evt) {\n",
       "        if (evt.data instanceof Blob) {\n",
       "            /* FIXME: We get \"Resource interpreted as Image but\n",
       "             * transferred with MIME type text/plain:\" errors on\n",
       "             * Chrome.  But how to set the MIME type?  It doesn't seem\n",
       "             * to be part of the websocket stream */\n",
       "            evt.data.type = \"image/png\";\n",
       "\n",
       "            /* Free the memory for the previous frames */\n",
       "            if (fig.imageObj.src) {\n",
       "                (window.URL || window.webkitURL).revokeObjectURL(\n",
       "                    fig.imageObj.src);\n",
       "            }\n",
       "\n",
       "            fig.imageObj.src = (window.URL || window.webkitURL).createObjectURL(\n",
       "                evt.data);\n",
       "            fig.updated_canvas_event();\n",
       "            fig.waiting = false;\n",
       "            return;\n",
       "        }\n",
       "        else if (typeof evt.data === 'string' && evt.data.slice(0, 21) == \"data:image/png;base64\") {\n",
       "            fig.imageObj.src = evt.data;\n",
       "            fig.updated_canvas_event();\n",
       "            fig.waiting = false;\n",
       "            return;\n",
       "        }\n",
       "\n",
       "        var msg = JSON.parse(evt.data);\n",
       "        var msg_type = msg['type'];\n",
       "\n",
       "        // Call the  \"handle_{type}\" callback, which takes\n",
       "        // the figure and JSON message as its only arguments.\n",
       "        try {\n",
       "            var callback = fig[\"handle_\" + msg_type];\n",
       "        } catch (e) {\n",
       "            console.log(\"No handler for the '\" + msg_type + \"' message type: \", msg);\n",
       "            return;\n",
       "        }\n",
       "\n",
       "        if (callback) {\n",
       "            try {\n",
       "                // console.log(\"Handling '\" + msg_type + \"' message: \", msg);\n",
       "                callback(fig, msg);\n",
       "            } catch (e) {\n",
       "                console.log(\"Exception inside the 'handler_\" + msg_type + \"' callback:\", e, e.stack, msg);\n",
       "            }\n",
       "        }\n",
       "    };\n",
       "}\n",
       "\n",
       "// from http://stackoverflow.com/questions/1114465/getting-mouse-location-in-canvas\n",
       "mpl.findpos = function(e) {\n",
       "    //this section is from http://www.quirksmode.org/js/events_properties.html\n",
       "    var targ;\n",
       "    if (!e)\n",
       "        e = window.event;\n",
       "    if (e.target)\n",
       "        targ = e.target;\n",
       "    else if (e.srcElement)\n",
       "        targ = e.srcElement;\n",
       "    if (targ.nodeType == 3) // defeat Safari bug\n",
       "        targ = targ.parentNode;\n",
       "\n",
       "    // jQuery normalizes the pageX and pageY\n",
       "    // pageX,Y are the mouse positions relative to the document\n",
       "    // offset() returns the position of the element relative to the document\n",
       "    var x = e.pageX - $(targ).offset().left;\n",
       "    var y = e.pageY - $(targ).offset().top;\n",
       "\n",
       "    return {\"x\": x, \"y\": y};\n",
       "};\n",
       "\n",
       "/*\n",
       " * return a copy of an object with only non-object keys\n",
       " * we need this to avoid circular references\n",
       " * http://stackoverflow.com/a/24161582/3208463\n",
       " */\n",
       "function simpleKeys (original) {\n",
       "  return Object.keys(original).reduce(function (obj, key) {\n",
       "    if (typeof original[key] !== 'object')\n",
       "        obj[key] = original[key]\n",
       "    return obj;\n",
       "  }, {});\n",
       "}\n",
       "\n",
       "mpl.figure.prototype.mouse_event = function(event, name) {\n",
       "    var canvas_pos = mpl.findpos(event)\n",
       "\n",
       "    if (name === 'button_press')\n",
       "    {\n",
       "        this.canvas.focus();\n",
       "        this.canvas_div.focus();\n",
       "    }\n",
       "\n",
       "    var x = canvas_pos.x * mpl.ratio;\n",
       "    var y = canvas_pos.y * mpl.ratio;\n",
       "\n",
       "    this.send_message(name, {x: x, y: y, button: event.button,\n",
       "                             step: event.step,\n",
       "                             guiEvent: simpleKeys(event)});\n",
       "\n",
       "    /* This prevents the web browser from automatically changing to\n",
       "     * the text insertion cursor when the button is pressed.  We want\n",
       "     * to control all of the cursor setting manually through the\n",
       "     * 'cursor' event from matplotlib */\n",
       "    event.preventDefault();\n",
       "    return false;\n",
       "}\n",
       "\n",
       "mpl.figure.prototype._key_event_extra = function(event, name) {\n",
       "    // Handle any extra behaviour associated with a key event\n",
       "}\n",
       "\n",
       "mpl.figure.prototype.key_event = function(event, name) {\n",
       "\n",
       "    // Prevent repeat events\n",
       "    if (name == 'key_press')\n",
       "    {\n",
       "        if (event.which === this._key)\n",
       "            return;\n",
       "        else\n",
       "            this._key = event.which;\n",
       "    }\n",
       "    if (name == 'key_release')\n",
       "        this._key = null;\n",
       "\n",
       "    var value = '';\n",
       "    if (event.ctrlKey && event.which != 17)\n",
       "        value += \"ctrl+\";\n",
       "    if (event.altKey && event.which != 18)\n",
       "        value += \"alt+\";\n",
       "    if (event.shiftKey && event.which != 16)\n",
       "        value += \"shift+\";\n",
       "\n",
       "    value += 'k';\n",
       "    value += event.which.toString();\n",
       "\n",
       "    this._key_event_extra(event, name);\n",
       "\n",
       "    this.send_message(name, {key: value,\n",
       "                             guiEvent: simpleKeys(event)});\n",
       "    return false;\n",
       "}\n",
       "\n",
       "mpl.figure.prototype.toolbar_button_onclick = function(name) {\n",
       "    if (name == 'download') {\n",
       "        this.handle_save(this, null);\n",
       "    } else {\n",
       "        this.send_message(\"toolbar_button\", {name: name});\n",
       "    }\n",
       "};\n",
       "\n",
       "mpl.figure.prototype.toolbar_button_onmouseover = function(tooltip) {\n",
       "    this.message.textContent = tooltip;\n",
       "};\n",
       "mpl.toolbar_items = [[\"Home\", \"Reset original view\", \"fa fa-home icon-home\", \"home\"], [\"Back\", \"Back to  previous view\", \"fa fa-arrow-left icon-arrow-left\", \"back\"], [\"Forward\", \"Forward to next view\", \"fa fa-arrow-right icon-arrow-right\", \"forward\"], [\"\", \"\", \"\", \"\"], [\"Pan\", \"Pan axes with left mouse, zoom with right\", \"fa fa-arrows icon-move\", \"pan\"], [\"Zoom\", \"Zoom to rectangle\", \"fa fa-square-o icon-check-empty\", \"zoom\"], [\"\", \"\", \"\", \"\"], [\"Download\", \"Download plot\", \"fa fa-floppy-o icon-save\", \"download\"]];\n",
       "\n",
       "mpl.extensions = [\"eps\", \"jpeg\", \"pdf\", \"png\", \"ps\", \"raw\", \"svg\", \"tif\"];\n",
       "\n",
       "mpl.default_extension = \"png\";var comm_websocket_adapter = function(comm) {\n",
       "    // Create a \"websocket\"-like object which calls the given IPython comm\n",
       "    // object with the appropriate methods. Currently this is a non binary\n",
       "    // socket, so there is still some room for performance tuning.\n",
       "    var ws = {};\n",
       "\n",
       "    ws.close = function() {\n",
       "        comm.close()\n",
       "    };\n",
       "    ws.send = function(m) {\n",
       "        //console.log('sending', m);\n",
       "        comm.send(m);\n",
       "    };\n",
       "    // Register the callback with on_msg.\n",
       "    comm.on_msg(function(msg) {\n",
       "        //console.log('receiving', msg['content']['data'], msg);\n",
       "        // Pass the mpl event to the overriden (by mpl) onmessage function.\n",
       "        ws.onmessage(msg['content']['data'])\n",
       "    });\n",
       "    return ws;\n",
       "}\n",
       "\n",
       "mpl.mpl_figure_comm = function(comm, msg) {\n",
       "    // This is the function which gets called when the mpl process\n",
       "    // starts-up an IPython Comm through the \"matplotlib\" channel.\n",
       "\n",
       "    var id = msg.content.data.id;\n",
       "    // Get hold of the div created by the display call when the Comm\n",
       "    // socket was opened in Python.\n",
       "    var element = $(\"#\" + id);\n",
       "    var ws_proxy = comm_websocket_adapter(comm)\n",
       "\n",
       "    function ondownload(figure, format) {\n",
       "        window.open(figure.imageObj.src);\n",
       "    }\n",
       "\n",
       "    var fig = new mpl.figure(id, ws_proxy,\n",
       "                           ondownload,\n",
       "                           element.get(0));\n",
       "\n",
       "    // Call onopen now - mpl needs it, as it is assuming we've passed it a real\n",
       "    // web socket which is closed, not our websocket->open comm proxy.\n",
       "    ws_proxy.onopen();\n",
       "\n",
       "    fig.parent_element = element.get(0);\n",
       "    fig.cell_info = mpl.find_output_cell(\"<div id='\" + id + \"'></div>\");\n",
       "    if (!fig.cell_info) {\n",
       "        console.error(\"Failed to find cell for figure\", id, fig);\n",
       "        return;\n",
       "    }\n",
       "\n",
       "    var output_index = fig.cell_info[2]\n",
       "    var cell = fig.cell_info[0];\n",
       "\n",
       "};\n",
       "\n",
       "mpl.figure.prototype.handle_close = function(fig, msg) {\n",
       "    var width = fig.canvas.width/mpl.ratio\n",
       "    fig.root.unbind('remove')\n",
       "\n",
       "    // Update the output cell to use the data from the current canvas.\n",
       "    fig.push_to_output();\n",
       "    var dataURL = fig.canvas.toDataURL();\n",
       "    // Re-enable the keyboard manager in IPython - without this line, in FF,\n",
       "    // the notebook keyboard shortcuts fail.\n",
       "    IPython.keyboard_manager.enable()\n",
       "    $(fig.parent_element).html('<img src=\"' + dataURL + '\" width=\"' + width + '\">');\n",
       "    fig.close_ws(fig, msg);\n",
       "}\n",
       "\n",
       "mpl.figure.prototype.close_ws = function(fig, msg){\n",
       "    fig.send_message('closing', msg);\n",
       "    // fig.ws.close()\n",
       "}\n",
       "\n",
       "mpl.figure.prototype.push_to_output = function(remove_interactive) {\n",
       "    // Turn the data on the canvas into data in the output cell.\n",
       "    var width = this.canvas.width/mpl.ratio\n",
       "    var dataURL = this.canvas.toDataURL();\n",
       "    this.cell_info[1]['text/html'] = '<img src=\"' + dataURL + '\" width=\"' + width + '\">';\n",
       "}\n",
       "\n",
       "mpl.figure.prototype.updated_canvas_event = function() {\n",
       "    // Tell IPython that the notebook contents must change.\n",
       "    IPython.notebook.set_dirty(true);\n",
       "    this.send_message(\"ack\", {});\n",
       "    var fig = this;\n",
       "    // Wait a second, then push the new image to the DOM so\n",
       "    // that it is saved nicely (might be nice to debounce this).\n",
       "    setTimeout(function () { fig.push_to_output() }, 1000);\n",
       "}\n",
       "\n",
       "mpl.figure.prototype._init_toolbar = function() {\n",
       "    var fig = this;\n",
       "\n",
       "    var nav_element = $('<div/>')\n",
       "    nav_element.attr('style', 'width: 100%');\n",
       "    this.root.append(nav_element);\n",
       "\n",
       "    // Define a callback function for later on.\n",
       "    function toolbar_event(event) {\n",
       "        return fig.toolbar_button_onclick(event['data']);\n",
       "    }\n",
       "    function toolbar_mouse_event(event) {\n",
       "        return fig.toolbar_button_onmouseover(event['data']);\n",
       "    }\n",
       "\n",
       "    for(var toolbar_ind in mpl.toolbar_items){\n",
       "        var name = mpl.toolbar_items[toolbar_ind][0];\n",
       "        var tooltip = mpl.toolbar_items[toolbar_ind][1];\n",
       "        var image = mpl.toolbar_items[toolbar_ind][2];\n",
       "        var method_name = mpl.toolbar_items[toolbar_ind][3];\n",
       "\n",
       "        if (!name) { continue; };\n",
       "\n",
       "        var button = $('<button class=\"btn btn-default\" href=\"#\" title=\"' + name + '\"><i class=\"fa ' + image + ' fa-lg\"></i></button>');\n",
       "        button.click(method_name, toolbar_event);\n",
       "        button.mouseover(tooltip, toolbar_mouse_event);\n",
       "        nav_element.append(button);\n",
       "    }\n",
       "\n",
       "    // Add the status bar.\n",
       "    var status_bar = $('<span class=\"mpl-message\" style=\"text-align:right; float: right;\"/>');\n",
       "    nav_element.append(status_bar);\n",
       "    this.message = status_bar[0];\n",
       "\n",
       "    // Add the close button to the window.\n",
       "    var buttongrp = $('<div class=\"btn-group inline pull-right\"></div>');\n",
       "    var button = $('<button class=\"btn btn-mini btn-primary\" href=\"#\" title=\"Stop Interaction\"><i class=\"fa fa-power-off icon-remove icon-large\"></i></button>');\n",
       "    button.click(function (evt) { fig.handle_close(fig, {}); } );\n",
       "    button.mouseover('Stop Interaction', toolbar_mouse_event);\n",
       "    buttongrp.append(button);\n",
       "    var titlebar = this.root.find($('.ui-dialog-titlebar'));\n",
       "    titlebar.prepend(buttongrp);\n",
       "}\n",
       "\n",
       "mpl.figure.prototype._root_extra_style = function(el){\n",
       "    var fig = this\n",
       "    el.on(\"remove\", function(){\n",
       "\tfig.close_ws(fig, {});\n",
       "    });\n",
       "}\n",
       "\n",
       "mpl.figure.prototype._canvas_extra_style = function(el){\n",
       "    // this is important to make the div 'focusable\n",
       "    el.attr('tabindex', 0)\n",
       "    // reach out to IPython and tell the keyboard manager to turn it's self\n",
       "    // off when our div gets focus\n",
       "\n",
       "    // location in version 3\n",
       "    if (IPython.notebook.keyboard_manager) {\n",
       "        IPython.notebook.keyboard_manager.register_events(el);\n",
       "    }\n",
       "    else {\n",
       "        // location in version 2\n",
       "        IPython.keyboard_manager.register_events(el);\n",
       "    }\n",
       "\n",
       "}\n",
       "\n",
       "mpl.figure.prototype._key_event_extra = function(event, name) {\n",
       "    var manager = IPython.notebook.keyboard_manager;\n",
       "    if (!manager)\n",
       "        manager = IPython.keyboard_manager;\n",
       "\n",
       "    // Check for shift+enter\n",
       "    if (event.shiftKey && event.which == 13) {\n",
       "        this.canvas_div.blur();\n",
       "        event.shiftKey = false;\n",
       "        // Send a \"J\" for go to next cell\n",
       "        event.which = 74;\n",
       "        event.keyCode = 74;\n",
       "        manager.command_mode();\n",
       "        manager.handle_keydown(event);\n",
       "    }\n",
       "}\n",
       "\n",
       "mpl.figure.prototype.handle_save = function(fig, msg) {\n",
       "    fig.ondownload(fig, null);\n",
       "}\n",
       "\n",
       "\n",
       "mpl.find_output_cell = function(html_output) {\n",
       "    // Return the cell and output element which can be found *uniquely* in the notebook.\n",
       "    // Note - this is a bit hacky, but it is done because the \"notebook_saving.Notebook\"\n",
       "    // IPython event is triggered only after the cells have been serialised, which for\n",
       "    // our purposes (turning an active figure into a static one), is too late.\n",
       "    var cells = IPython.notebook.get_cells();\n",
       "    var ncells = cells.length;\n",
       "    for (var i=0; i<ncells; i++) {\n",
       "        var cell = cells[i];\n",
       "        if (cell.cell_type === 'code'){\n",
       "            for (var j=0; j<cell.output_area.outputs.length; j++) {\n",
       "                var data = cell.output_area.outputs[j];\n",
       "                if (data.data) {\n",
       "                    // IPython >= 3 moved mimebundle to data attribute of output\n",
       "                    data = data.data;\n",
       "                }\n",
       "                if (data['text/html'] == html_output) {\n",
       "                    return [cell, data, j];\n",
       "                }\n",
       "            }\n",
       "        }\n",
       "    }\n",
       "}\n",
       "\n",
       "// Register the function which deals with the matplotlib target/channel.\n",
       "// The kernel may be null if the page has been refreshed.\n",
       "if (IPython.notebook.kernel != null) {\n",
       "    IPython.notebook.kernel.comm_manager.register_target('matplotlib', mpl.mpl_figure_comm);\n",
       "}\n"
      ],
      "text/plain": [
       "<IPython.core.display.Javascript object>"
      ]
     },
     "metadata": {},
     "output_type": "display_data"
    },
    {
     "data": {
      "text/html": [
       "<img src=\"data:image/png;base64,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\" width=\"640\">"
      ],
      "text/plain": [
       "<IPython.core.display.HTML object>"
      ]
     },
     "metadata": {},
     "output_type": "display_data"
    },
    {
     "name": "stdout",
     "output_type": "stream",
     "text": [
      "Accuracy: 0.9008\n"
     ]
    }
   ],
   "source": [
    "# summarizing everything in single cell\n",
    "training_epochs = 15\n",
    "batch_size = 1000\n",
    "cross_entropy = tf.reduce_mean(tf.nn.softmax_cross_entropy_with_logits(logits = y_predicted_is, labels = y_true_is))\n",
    "train_step = tf.train.GradientDescentOptimizer(0.05).minimize(cross_entropy)\n",
    "\n",
    "fig,ax = plt.subplots(1,1)\n",
    "ax.set_xlabel('epoch') ; ax.set_ylabel('Soft Max Cross Entropy loss')\n",
    "epochs_list, avg_train_loss_list, avg_test_loss_list = [], [], []\n",
    "for epoch in range(training_epochs):\n",
    "        train_avg_cost = 0.\n",
    "        test_avg_cost = 0.\n",
    "        total_batch = int(mnist.train.num_examples/batch_size)\n",
    "        # Loop over all batches\n",
    "        for i in range(total_batch):\n",
    "            batch_xs, batch_ys = mnist.train.next_batch(batch_size)\n",
    "            # cross entropy is used for calculating training loss, c is the training loss returned\n",
    "            _, c = sess.run([train_step, cross_entropy], feed_dict={x_is: batch_xs, y_true_is: batch_ys})\n",
    "            train_avg_cost += c / total_batch\n",
    "            # here we are calculating test loss on the W's which are intermediate, to show it on the graph\n",
    "            c = sess.run(cross_entropy, feed_dict={x_is: mnist.test.images, y_true_is: mnist.test.labels})\n",
    "            # c is the returned test loss, and we are calculating avg test loss by total_batch\n",
    "            test_avg_cost += c / total_batch\n",
    "\n",
    "        epochs_list.append(epoch)\n",
    "        avg_train_loss_list.append(train_avg_cost)\n",
    "        avg_test_loss_list.append(test_avg_cost)\n",
    "        plt_dynamic(epochs_list, avg_train_loss_list, avg_test_loss_list, ax)\n",
    "        \n",
    "\n",
    "plt_dynamic(epochs_list, avg_train_loss_list, avg_test_loss_list, ax)\n",
    "correct_prediction = tf.equal(tf.argmax(y_predicted_is,1), tf.argmax(y_true_is,1))\n",
    "accuracy = tf.reduce_mean(tf.cast(correct_prediction, tf.float32))\n",
    "print(\"Accuracy:\", accuracy.eval({x_is: mnist.test.images, y_true_is: mnist.test.labels}))"
   ]
  },
  {
   "cell_type": "code",
   "execution_count": null,
   "metadata": {},
   "outputs": [],
   "source": [
    "# END"
   ]
  }
 ],
 "metadata": {
  "kernelspec": {
   "display_name": "Python 3",
   "language": "python",
   "name": "python3"
  },
  "language_info": {
   "codemirror_mode": {
    "name": "ipython",
    "version": 3
   },
   "file_extension": ".py",
   "mimetype": "text/x-python",
   "name": "python",
   "nbconvert_exporter": "python",
   "pygments_lexer": "ipython3",
   "version": "3.6.4"
  }
 },
 "nbformat": 4,
 "nbformat_minor": 2
}
